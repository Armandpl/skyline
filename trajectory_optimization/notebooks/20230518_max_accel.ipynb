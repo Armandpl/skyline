{
 "cells": [
  {
   "cell_type": "code",
   "execution_count": 1,
   "metadata": {},
   "outputs": [
    {
     "data": {
      "text/html": [
       "<div>\n",
       "<style scoped>\n",
       "    .dataframe tbody tr th:only-of-type {\n",
       "        vertical-align: middle;\n",
       "    }\n",
       "\n",
       "    .dataframe tbody tr th {\n",
       "        vertical-align: top;\n",
       "    }\n",
       "\n",
       "    .dataframe thead th {\n",
       "        text-align: right;\n",
       "    }\n",
       "</style>\n",
       "<table border=\"1\" class=\"dataframe\">\n",
       "  <thead>\n",
       "    <tr style=\"text-align: right;\">\n",
       "      <th></th>\n",
       "      <th>Time (s)</th>\n",
       "      <th>Linear Acceleration x (m/s^2)</th>\n",
       "      <th>Linear Acceleration y (m/s^2)</th>\n",
       "      <th>Linear Acceleration z (m/s^2)</th>\n",
       "      <th>Absolute acceleration (m/s^2)</th>\n",
       "    </tr>\n",
       "  </thead>\n",
       "  <tbody>\n",
       "    <tr>\n",
       "      <th>0</th>\n",
       "      <td>0.169887</td>\n",
       "      <td>0.003525</td>\n",
       "      <td>0.028968</td>\n",
       "      <td>0.160334</td>\n",
       "      <td>0.162968</td>\n",
       "    </tr>\n",
       "    <tr>\n",
       "      <th>1</th>\n",
       "      <td>0.179866</td>\n",
       "      <td>0.005333</td>\n",
       "      <td>0.042064</td>\n",
       "      <td>0.257327</td>\n",
       "      <td>0.260797</td>\n",
       "    </tr>\n",
       "    <tr>\n",
       "      <th>2</th>\n",
       "      <td>0.189845</td>\n",
       "      <td>0.005627</td>\n",
       "      <td>0.016757</td>\n",
       "      <td>0.084886</td>\n",
       "      <td>0.086707</td>\n",
       "    </tr>\n",
       "    <tr>\n",
       "      <th>3</th>\n",
       "      <td>0.199824</td>\n",
       "      <td>-0.007140</td>\n",
       "      <td>-0.021765</td>\n",
       "      <td>0.032939</td>\n",
       "      <td>0.040120</td>\n",
       "    </tr>\n",
       "    <tr>\n",
       "      <th>4</th>\n",
       "      <td>0.209804</td>\n",
       "      <td>0.016332</td>\n",
       "      <td>0.000113</td>\n",
       "      <td>0.172293</td>\n",
       "      <td>0.173066</td>\n",
       "    </tr>\n",
       "  </tbody>\n",
       "</table>\n",
       "</div>"
      ],
      "text/plain": [
       "   Time (s)  Linear Acceleration x (m/s^2)  Linear Acceleration y (m/s^2)   \n",
       "0  0.169887                       0.003525                       0.028968  \\\n",
       "1  0.179866                       0.005333                       0.042064   \n",
       "2  0.189845                       0.005627                       0.016757   \n",
       "3  0.199824                      -0.007140                      -0.021765   \n",
       "4  0.209804                       0.016332                       0.000113   \n",
       "\n",
       "   Linear Acceleration z (m/s^2)  Absolute acceleration (m/s^2)  \n",
       "0                       0.160334                       0.162968  \n",
       "1                       0.257327                       0.260797  \n",
       "2                       0.084886                       0.086707  \n",
       "3                       0.032939                       0.040120  \n",
       "4                       0.172293                       0.173066  "
      ]
     },
     "execution_count": 1,
     "metadata": {},
     "output_type": "execute_result"
    }
   ],
   "source": [
    "import pandas as pd\n",
    "df = pd.read_csv(\"max_accel.csv\")\n",
    "df.head()"
   ]
  },
  {
   "cell_type": "code",
   "execution_count": 5,
   "metadata": {},
   "outputs": [
    {
     "data": {
      "text/plain": [
       "count    10704.000000\n",
       "mean        -0.048723\n",
       "std          3.613430\n",
       "min        -30.302311\n",
       "25%         -0.837054\n",
       "50%         -0.011027\n",
       "75%          0.277770\n",
       "max         28.397485\n",
       "Name: Linear Acceleration x (m/s^2), dtype: float64"
      ]
     },
     "execution_count": 5,
     "metadata": {},
     "output_type": "execute_result"
    }
   ],
   "source": [
    "df[\"Linear Acceleration x (m/s^2)\"].describe()"
   ]
  }
 ],
 "metadata": {
  "kernelspec": {
   "display_name": "Python 3.8.16 ('.venv': poetry)",
   "language": "python",
   "name": "python3"
  },
  "language_info": {
   "codemirror_mode": {
    "name": "ipython",
    "version": 3
   },
   "file_extension": ".py",
   "mimetype": "text/x-python",
   "name": "python",
   "nbconvert_exporter": "python",
   "pygments_lexer": "ipython3",
   "version": "3.8.16"
  },
  "orig_nbformat": 4,
  "vscode": {
   "interpreter": {
    "hash": "326a1df1b3f789d735ab102e16f52b2421a26019ff3fc9f2c75f27777cba6380"
   }
  }
 },
 "nbformat": 4,
 "nbformat_minor": 2
}
