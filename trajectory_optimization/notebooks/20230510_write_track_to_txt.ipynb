{
 "cells": [
  {
   "cell_type": "code",
   "execution_count": 1,
   "metadata": {},
   "outputs": [],
   "source": [
    "# let's make a dummy trajectory\n",
    "from trajectory_optimization.track import Track\n",
    "import numpy as np\n",
    "\n",
    "track = Track(\"../data/tracks/vivatech_2023.dxf\")\n",
    "\n",
    "desired_speed = 4 # m/s\n",
    "control_freq = 20 # Hz\n",
    "distance_per_hz = 4/20\n",
    "nb_points = int(track.center.length // distance_per_hz)"
   ]
  },
  {
   "cell_type": "code",
   "execution_count": 9,
   "metadata": {},
   "outputs": [],
   "source": [
    "distances = np.linspace(0, track.center.length, nb_points)\n",
    "traj_points = [track.center.interpolate(d) for d in distances]"
   ]
  },
  {
   "cell_type": "code",
   "execution_count": 35,
   "metadata": {},
   "outputs": [],
   "source": [
    "import math\n",
    "\n",
    "def compute_angles(point_list):\n",
    "    # Initialize the list to store the angles\n",
    "    angles = []\n",
    "\n",
    "    # Loop through the point list\n",
    "    for i in range(len(point_list) - 1):\n",
    "        # Get the current point and the next point\n",
    "        p1 = point_list[i]\n",
    "        p2 = point_list[i + 1]\n",
    "\n",
    "        # Calculate the difference in x and y coordinates\n",
    "        dx = p2.x - p1.x\n",
    "        dy = p2.y - p1.y\n",
    "\n",
    "        # Compute the angle in radians between the x-axis and the line connecting the points (using the atan2 function for a correct quadrant)\n",
    "        angle_radians = math.atan2(dy, dx)\n",
    "        \n",
    "        # Convert the angle to degrees\n",
    "        angle_degrees = math.degrees(angle_radians)\n",
    "\n",
    "        # Normalize the angle to be between 0 and 360\n",
    "        if angle_degrees < 0:\n",
    "            angle_degrees += 360\n",
    "\n",
    "        # Append the angle to the list\n",
    "        angles.append(angle_degrees)\n",
    "\n",
    "    # Return the list of angles\n",
    "    return angles"
   ]
  },
  {
   "cell_type": "code",
   "execution_count": 40,
   "metadata": {},
   "outputs": [
    {
     "data": {
      "text/plain": [
       "227"
      ]
     },
     "execution_count": 40,
     "metadata": {},
     "output_type": "execute_result"
    }
   ],
   "source": [
    "len(traj_points)"
   ]
  },
  {
   "cell_type": "code",
   "execution_count": 42,
   "metadata": {},
   "outputs": [
    {
     "data": {
      "image/png": "[encoded data removed]",
      "text/plain": [
       "<Figure size 640x480 with 1 Axes>"
      ]
     },
     "metadata": {},
     "output_type": "display_data"
    }
   ],
   "source": [
    "import matplotlib.pyplot as plt\n",
    "\n",
    "angles = compute_angles(traj_points)\n",
    "\n",
    "traj = np.array([[p.x, p.y, yaw] for p, yaw in zip(traj_points[:-1], angles)])\n",
    "\n",
    "plt.scatter(x = traj[:, 0], y = traj[:, 1])\n",
    "plt.show()"
   ]
  },
  {
   "cell_type": "code",
   "execution_count": 48,
   "metadata": {},
   "outputs": [
    {
     "name": "stdout",
     "output_type": "stream",
     "text": [
      "(226, 1)\n"
     ]
    }
   ],
   "source": [
    "car_orientations = traj[:, -1].reshape(-1, 1)  # List of Euler(yaw) for each frame\n",
    "print(car_orientations.shape)\n",
    "car_orientations = np.pad(car_orientations, ((0,0), (2,0))) "
   ]
  },
  {
   "cell_type": "code",
   "execution_count": 43,
   "metadata": {},
   "outputs": [],
   "source": [
    "np.savetxt(\"centerline_traj.txt\", traj)"
   ]
  },
  {
   "cell_type": "code",
   "execution_count": 27,
   "metadata": {},
   "outputs": [],
   "source": [
    "np.savetxt(\"inner.txt\", np.array(track.inner.coords))\n",
    "np.savetxt(\"outer.txt\", np.array(track.outer.coords))"
   ]
  },
  {
   "cell_type": "code",
   "execution_count": 33,
   "metadata": {},
   "outputs": [
    {
     "name": "stdout",
     "output_type": "stream",
     "text": [
      "(12036, 3)\n"
     ]
    }
   ],
   "source": [
    "inner = np.array(track.inner.coords)\n",
    "inner = np.pad(inner, ((0,0), (0,1)))\n",
    "\n",
    "print(inner.shape)"
   ]
  }
 ],
 "metadata": {
  "kernelspec": {
   "display_name": "Python 3.8.16 ('.venv': poetry)",
   "language": "python",
   "name": "python3"
  },
  "language_info": {
   "codemirror_mode": {
    "name": "ipython",
    "version": 3
   },
   "file_extension": ".py",
   "mimetype": "text/x-python",
   "name": "python",
   "nbconvert_exporter": "python",
   "pygments_lexer": "ipython3",
   "version": "3.8.16"
  },
  "orig_nbformat": 4,
  "vscode": {
   "interpreter": {
    "hash": "326a1df1b3f789d735ab102e16f52b2421a26019ff3fc9f2c75f27777cba6380"
   }
  }
 },
 "nbformat": 4,
 "nbformat_minor": 2
}
