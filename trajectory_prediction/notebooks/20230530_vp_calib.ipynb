{
 "cells": [
  {
   "cell_type": "code",
   "execution_count": null,
   "metadata": {},
   "outputs": [],
   "source": [
    "# calibrated cam in camera_calibratin.ipynb, undistorted vp_calib.png and got the vanishing point coords by lookin at the image in photoshop\n",
    "# unsure if I should change K though?\n",
    "# vp:\n",
    "# x=1765\n",
    "# y=1108"
   ]
  },
  {
   "cell_type": "code",
   "execution_count": 3,
   "metadata": {},
   "outputs": [],
   "source": [
    "import numpy as np\n",
    "\n",
    "K = np.load(\"K_3264x2464.npy\")\n",
    "D = np.load(\"D_3264x2464.npy\")"
   ]
  },
  {
   "cell_type": "code",
   "execution_count": 4,
   "metadata": {},
   "outputs": [],
   "source": [
    "# https://thomasfermi.github.io/Algorithms-for-Automated-Driving/CameraCalibration/VanishingPointCameraCalibration.html\n",
    "def get_py_from_vp(u_i, v_i, K):\n",
    "    p_infinity = np.array([u_i, v_i, 1])\n",
    "    K_inv = np.linalg.inv(K)\n",
    "    r3 = K_inv @ p_infinity    \n",
    "    r3 /= np.linalg.norm(r3)\n",
    "    yaw = -np.arctan2(r3[0], r3[2])\n",
    "    pitch = np.arcsin(r3[1])    \n",
    "    \n",
    "    return pitch, yaw"
   ]
  },
  {
   "cell_type": "code",
   "execution_count": 8,
   "metadata": {},
   "outputs": [
    {
     "data": {
      "text/plain": [
       "array([-9.43248811,  0.32492297])"
      ]
     },
     "execution_count": 8,
     "metadata": {},
     "output_type": "execute_result"
    }
   ],
   "source": [
    "np.rad2deg(get_py_from_vp(1765, 1108, K))"
   ]
  },
  {
   "cell_type": "code",
   "execution_count": null,
   "metadata": {},
   "outputs": [],
   "source": [
    "# try by finding the vp on the original distorted image?"
   ]
  }
 ],
 "metadata": {
  "kernelspec": {
   "display_name": ".venv",
   "language": "python",
   "name": "python3"
  },
  "language_info": {
   "codemirror_mode": {
    "name": "ipython",
    "version": 3
   },
   "file_extension": ".py",
   "mimetype": "text/x-python",
   "name": "python",
   "nbconvert_exporter": "python",
   "pygments_lexer": "ipython3",
   "version": "3.8.16"
  },
  "orig_nbformat": 4
 },
 "nbformat": 4,
 "nbformat_minor": 2
}
